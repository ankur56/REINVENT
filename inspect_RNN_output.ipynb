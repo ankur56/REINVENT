{
 "cells": [
  {
   "cell_type": "code",
   "execution_count": 7,
   "metadata": {},
   "outputs": [],
   "source": [
    "from data_structs import canonicalize_smiles_from_file\n",
    "from rdkit import Chem"
   ]
  },
  {
   "cell_type": "code",
   "execution_count": 5,
   "metadata": {},
   "outputs": [
    {
     "name": "stdout",
     "output_type": "stream",
     "text": [
      "0 lines processed.\n"
     ]
    },
    {
     "name": "stderr",
     "output_type": "stream",
     "text": [
      "[13:23:02] SMILES Parse Error: unclosed ring for input: 'C1C[C@@H]2OC[C@H]1[N]1\n",
      "'\n",
      "[13:23:02] SMILES Parse Error: unclosed ring for input: 'CC[C@H]1[C@@H](C)C(=O)[C@]11C\n",
      "'\n",
      "[13:23:02] Explicit valence for atom # 2 C, 5, is greater than permitted\n",
      "[13:23:02] SMILES Parse Error: ring closure 3 duplicates bond between atom 5 and atom 6 for input: 'O[C@H]1CC[C@H]2[C@H]3[C]3C[C@@H]12\n",
      "'\n",
      "[13:23:02] SMILES Parse Error: unclosed ring for input: 'C1[C@H]2C[C@]34C[C@@](C2)[C@H]153\n",
      "'\n",
      "[13:23:02] Explicit valence for atom # 8 C, 5, is greater than permitted\n",
      "[13:23:02] SMILES Parse Error: unclosed ring for input: 'C#C[C@]12C[C@]3n[C@H](C1)N34\n",
      "'\n",
      "[13:23:02] SMILES Parse Error: unclosed ring for input: 'O[C@H]1CN[C@]12C[C@H]3O[C@@H]13\n",
      "'\n",
      "[13:23:02] Can't kekulize mol.  Unkekulized atoms: 2 3 4 8\n",
      "[13:23:02] Can't kekulize mol.  Unkekulized atoms: 3 4 5 7\n"
     ]
    },
    {
     "name": "stdout",
     "output_type": "stream",
     "text": [
      "118 SMILES retrieved\n"
     ]
    }
   ],
   "source": [
    "# Import RNN output\n",
    "output_smiles = canonicalize_smiles_from_file('data/generated_mols.smi')"
   ]
  },
  {
   "cell_type": "code",
   "execution_count": 10,
   "metadata": {},
   "outputs": [
    {
     "name": "stdout",
     "output_type": "stream",
     "text": [
      "Fraction of validity: 1.0\n"
     ]
    }
   ],
   "source": [
    "# Inspect validity\n",
    "i = 0\n",
    "for smile in output_smiles:\n",
    "    if Chem.MolFromSmiles(smile):\n",
    "        i += 1\n",
    "frac_validity = i / len(output_smiles)\n",
    "print('Fraction of validity: ' + str(frac_validity))"
   ]
  },
  {
   "cell_type": "code",
   "execution_count": null,
   "metadata": {},
   "outputs": [
    {
     "ename": "",
     "evalue": "",
     "output_type": "error",
     "traceback": [
      "\u001b[1;31mRunning cells with 'reinvent_2' requires the ipykernel package.\n",
      "\u001b[1;31mRun the following command to install 'ipykernel' into the Python environment. \n",
      "\u001b[1;31mCommand: 'conda install -n reinvent_2 ipykernel --update-deps --force-reinstall'"
     ]
    }
   ],
   "source": [
    "# Test bandgap computation\n",
    "# for now store in smiles_to_bangap.py\n",
    "from smiles_to_bandgap import get_bandgap\n",
    "\n"
   ]
  },
  {
   "cell_type": "code",
   "execution_count": 6,
   "metadata": {},
   "outputs": [
    {
     "data": {
      "text/plain": [
       "['C[C@@]12C[C@H]3N1C[C@]32C#N',\n",
       " 'ON=C1C[C@@]2(O)CC[C@@H]12',\n",
       " 'CN=C1NC(C)(C)[C@H]1O',\n",
       " 'O=COC1CCCCC1',\n",
       " 'CC#CC[C@@H](C)C(N)=O',\n",
       " 'C[C@H]1[C@H]2[C@H](CO)C[C@]21C',\n",
       " 'O[C@@]12CC[C@]1(O)[C@H]1N[C@H]12',\n",
       " 'CC1(C)N[C@H]1C1CC1',\n",
       " 'OCC1(C2CC2)COC1',\n",
       " 'O=CC[C@@]1(C2CC2)CO1',\n",
       " 'CC1(C)OC(C)(C)C1O',\n",
       " 'CC1(C)N[C]([NH])OC1=O',\n",
       " 'C[C@@H](C=O)[C@H]1[C@H]2CN12',\n",
       " 'C#CC#C[C@H]1CNC1=O',\n",
       " 'COC[C@]12N[C@H]1[C@H]1N[C@H]12',\n",
       " 'O=C1[C@H]2CC[C@H]3C[C@]12O3',\n",
       " 'C[C@H]1O[C@H]1CC=O',\n",
       " 'C[C@]12C[C@H]1N1C[C@H]1CO2',\n",
       " 'O[C@]12[C@@H]3[C@@H]4CN4[C@H]1C[C@@H]32',\n",
       " 'C[C@H]1OCCC(=O)CO1',\n",
       " 'C#C[C@]1(O)[C@@H]2CO[C@H]1C2',\n",
       " 'CC[C@@H]1N[C@@H]2CO[C]1[N]2',\n",
       " 'CC[C@H]1O[C@H]2C[C@@H](O)[C@H]21',\n",
       " 'O=CCNC1(C=O)CC1',\n",
       " '[NH][CH]OC[C@H]1C[C@H]2C[C@@H]12',\n",
       " 'CC1(C)[C@@H](O)CC12CC2',\n",
       " 'CCCC#CC(C)=O',\n",
       " 'O=C1[C@@H]2C[C@H](O)C[C@]12O',\n",
       " '[CH]1[N][C@H]2[C]3[N][C@H]2C[C@H]1O3',\n",
       " 'N#C[C@]1(O)CC[C@H](O)C1',\n",
       " 'CC[C@@H](C)[C@H]1CCOC1',\n",
       " 'CC(=O)C#CCCC#N',\n",
       " 'CC1(C)[C@H]2[C@@H]3O[C@H]2C[C@@H]31',\n",
       " 'C[C@]12N[C@H]1C[C@H]2CO',\n",
       " 'C[C@]12[C@@H]3[C@@H](N31)C21CC1',\n",
       " 'C[C@@]12[C@@H]([C@H]3O[C@H]31)[C@H]2O',\n",
       " '[NH][CH]Oc1ccccn1',\n",
       " 'O[C@]12C[C@@H]3OC[C@]1(C2)O3',\n",
       " 'O[C@H]1C[C@H]1[C@H]1C[C@H]2N[C@@H]12',\n",
       " 'N#C[C@]12[C@@H]3[C@H]4[C@H](CN41)[C@@H]32',\n",
       " 'C#CC(C#C)[C@@H](O)C#C',\n",
       " 'C#C[C@@]12C[C@]1(C)CC2=O',\n",
       " 'C#C[C@@]1(O)[C@@H]2N[C@@H]2[C@@H]1O',\n",
       " 'O=C[C@H]1O[C@@]2(C=O)C[C@@H]12',\n",
       " 'C#C[C@@H]1OC(=O)[C@@H]2N[C@H]12',\n",
       " 'Cc1cnc(O)cc1F',\n",
       " 'C[C@H]1N2[C@@H](C=O)[C@@]12CO',\n",
       " 'OC[C@@]12O[C@H]3CO[C@@H]1[C@H]32',\n",
       " 'CC1CCC(=O)C1',\n",
       " 'C#C[C@]1(CCO)CN1C',\n",
       " 'CCCCCOC1CC1',\n",
       " 'C[C@]12[C@@H]3C[C@H]1N3C21CC1',\n",
       " 'O=C1CC[C@]2(CN2)C1',\n",
       " 'CC[C@H]1[C@@H](O)[C@H]2C[C@@H]1O2',\n",
       " 'C[C@H]1C[C@@]2(O)C=C[C@@H]1C2',\n",
       " 'C[C@@H]1C[C@H](O)[C@@]2(CN2)C1',\n",
       " 'C#C[C@H](C)[C@@H](O)CC=O',\n",
       " 'O[C@@H]1[C@@H]2[C@@H]3[C@H]4C[C@@H]3[C@H]4[C@H]12',\n",
       " 'Cn1cnc2nc[nH]c21',\n",
       " 'CCNCC(=O)CCO',\n",
       " 'C#C[C@](C)(O)[C@@H](C)C#N',\n",
       " 'O=COc1ccon1',\n",
       " 'CCc1ccc(O)o1',\n",
       " 'COC[C@@H](O)CCO',\n",
       " 'CC(=O)OC[C@@H]1C[C@@H]1C',\n",
       " 'CC(=O)[C@@H](C)C1(O)CC1',\n",
       " 'O=C1C(CO)=C[C@H]2N[C@@H]12',\n",
       " 'C#C[C@H]1C=C(C)CO1',\n",
       " 'C[C@]12O[C@@]1(C#N)C[C@@H]2O',\n",
       " 'C[C@]1(O)[C@@H]2CO[C@H]1C2',\n",
       " 'CN1C[C@H]2C[C@]1(C)[C@H]2O',\n",
       " 'COc1c[nH]c(N)c1',\n",
       " 'C[C@@]12[C@@H]3CN1[C@@H]3[C@@]21CO1',\n",
       " 'O[C@@H]1[C@@H]2CO[C@H]3N[C@@H]2[C@@H]13',\n",
       " 'C[C@H]1C[C@@]2(C#N)CCN12',\n",
       " 'CC1(C2CC2)CC(O)C1',\n",
       " 'CC1=C(C)[C@@H]2N[C@@H]2[C@@H]1C',\n",
       " 'O=C1[CH][C]2N[C@H]2C12CC2',\n",
       " 'CC#C[C@@H](C)C(C)C',\n",
       " 'C[C@H]1C[C@H]2C[C@]1(C#N)C2',\n",
       " 'C#CC[C@H](CO)OC',\n",
       " 'CCOc1cnno1',\n",
       " 'CC[C@@]12CC[C@@H](O1)[C@@H]2C',\n",
       " 'C[C@@H](O)c1c[nH]c(N)n1',\n",
       " 'O[C@@]12[C@H]3[C@H]4[C@@H]1N4C[C@H]32',\n",
       " 'C[C@H]1C[C@H]2C[C@@H](CO1)C2',\n",
       " 'O=CCCC1COC1',\n",
       " 'CC1=CC(=O)NC1(N)O',\n",
       " 'CC[C@@]12C[C@@H]1N(C=O)C2',\n",
       " 'NC(=O)O[C@@]12CN[C@@H]1C2',\n",
       " 'C[C@@H](O)Cc1cn[nH]n1',\n",
       " 'O=C1C[C@H]2CN3C[C@H]2[C@H]13',\n",
       " 'C[C@@]12O[C@H]3[C@@H]1C[C@]32O',\n",
       " 'CC(=O)C[C@@H]1CO[C@@H]1C',\n",
       " 'C#Cc1occc1CO',\n",
       " 'C#C[C@H]1O[C@@]12C[C@H]1N[C@H]12',\n",
       " 'CC(=O)C1(C#N)COC1',\n",
       " 'O=C[C@@]1(CO)[C@@H]2NC[C@@H]21',\n",
       " 'C1C[C@@]23CC[C@@]2(CO3)O1',\n",
       " 'C[C@H]1N[C@H]2[C@H]3N[C@H]3[C@@]12O',\n",
       " 'N#C[C@@]12C[C@@H]1[C@@H]2C=O',\n",
       " 'C#CC(=O)CC1(C)CC1',\n",
       " 'N#CC1=CCCO[C]1[NH]',\n",
       " 'C[C@H]1[C@H]2OCC[C@]21C#N',\n",
       " 'N#C[C@H]1CCOCCO1',\n",
       " 'CC1=CCC(=O)OCC1',\n",
       " 'O[C@H]1C[C@H]2CC[CH][C]21',\n",
       " 'COC[C@H]1C[C@@H](O)CO1',\n",
       " 'C#C[C@H](C)[C@H]1O[C@H]2C[C@@H]12',\n",
       " 'CC[C@H]1C(=O)[C@H]2OC[C@H]21',\n",
       " 'O=COC[C@H]1OC[C@H]1O',\n",
       " 'N#CC1[C@@H]2C=C[C@H]1CO2',\n",
       " 'CN1CC(=NO)C1(C)C',\n",
       " 'O=C(CO)n1cnnc1',\n",
       " 'OC[C@H]1C[C@H]2OC[C@@]12O',\n",
       " 'C[C@@H]1[C@@H]2CC(=O)C[C@H]1C2',\n",
       " 'O=C[C@]12C=C[C@H](CO1)C2',\n",
       " 'CC(C)[C@@H](C)CO']"
      ]
     },
     "execution_count": 6,
     "metadata": {},
     "output_type": "execute_result"
    }
   ],
   "source": []
  },
  {
   "cell_type": "code",
   "execution_count": null,
   "metadata": {},
   "outputs": [],
   "source": []
  }
 ],
 "metadata": {
  "kernelspec": {
   "display_name": "reinvent",
   "language": "python",
   "name": "python3"
  },
  "language_info": {
   "codemirror_mode": {
    "name": "ipython",
    "version": 3
   },
   "file_extension": ".py",
   "mimetype": "text/x-python",
   "name": "python",
   "nbconvert_exporter": "python",
   "pygments_lexer": "ipython3",
   "version": "3.6.15"
  },
  "orig_nbformat": 4
 },
 "nbformat": 4,
 "nbformat_minor": 2
}
